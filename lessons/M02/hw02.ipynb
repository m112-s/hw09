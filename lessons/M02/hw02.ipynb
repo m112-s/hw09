{
 "cells": [
  {
   "cell_type": "code",
   "execution_count": null,
   "id": "6f4a7106-c9ce-451f-acc7-b11b4d0a0a08",
   "metadata": {},
   "outputs": [],
   "source": []
  },
  {
   "cell_type": "markdown",
   "id": "9958ceef-42ef-4724-ab83-f3c0d0a13441",
   "metadata": {},
   "source": [
    "# Student Info\n",
    "\n",
    "* Name: Manav Sheth\n",
    "* Net ID: gfw8hq\n",
    "* URL of this file in GitHub: https://github.com/m112-s/DS5100--gfw8hq-/blob/main/lessons/M02/hw02.ipynb"
   ]
  },
  {
   "cell_type": "markdown",
   "id": "866ed59b-a3ae-4aaf-88c2-7cc4763c9a7a",
   "metadata": {
    "tags": []
   },
   "source": [
    "# Data\n",
    "\n",
    "```\n",
    "Table 1: GRADES\n",
    "\n",
    "name    grade\n",
    "Jon     95\n",
    "Mike    84\n",
    "Jaime   99\n",
    "\n",
    "\n",
    "Table 2: TOUCHDOWNS\n",
    "\n",
    "name    touchdowns\n",
    "Alex    2\n",
    "Patrick 4\n",
    "Tom     1\n",
    "Joe     3\n",
    "Alex    1\n",
    "```"
   ]
  },
  {
   "cell_type": "markdown",
   "id": "791d1055-c557-4b5a-937e-b3363991446b",
   "metadata": {},
   "source": [
    "# Tasks"
   ]
  },
  {
   "cell_type": "markdown",
   "id": "54b4bafd-188c-4d75-866f-3f35808984e7",
   "metadata": {
    "tags": []
   },
   "source": [
    "## Task 1"
   ]
  },
  {
   "cell_type": "code",
   "execution_count": 1,
   "id": "90b92f16-dc61-4ba5-9f5f-b15192d142d0",
   "metadata": {
    "tags": []
   },
   "outputs": [
    {
     "name": "stdout",
     "output_type": "stream",
     "text": [
      "<class 'dict'>\n"
     ]
    }
   ],
   "source": [
    "gradebook = {'Jon':95,\n",
    "             'Mike':84,\n",
    "             'Jaime':99}\n",
    "\n",
    "print(type(gradebook)) #Make sure the data type is correct "
   ]
  },
  {
   "cell_type": "markdown",
   "id": "304fcdc5-a455-43c4-9284-a1f26f4ee548",
   "metadata": {
    "tags": []
   },
   "source": [
    "## Task 2"
   ]
  },
  {
   "cell_type": "code",
   "execution_count": 2,
   "id": "0b9ce870-076d-4c88-ac0b-76d9a3f4e11a",
   "metadata": {
    "tags": []
   },
   "outputs": [
    {
     "name": "stdout",
     "output_type": "stream",
     "text": [
      "84\n"
     ]
    }
   ],
   "source": [
    "print(gradebook['Mike'])"
   ]
  },
  {
   "cell_type": "markdown",
   "id": "4071b95f-d91e-43c4-ab5b-678a2b4c6651",
   "metadata": {
    "tags": []
   },
   "source": [
    "## Task 3"
   ]
  },
  {
   "cell_type": "code",
   "execution_count": 11,
   "id": "4cd95414-25aa-4e3b-91e0-0c00c3578921",
   "metadata": {
    "tags": []
   },
   "outputs": [
    {
     "ename": "KeyError",
     "evalue": "'Jeff'",
     "output_type": "error",
     "traceback": [
      "\u001b[0;31m---------------------------------------------------------------------------\u001b[0m",
      "\u001b[0;31mKeyError\u001b[0m                                  Traceback (most recent call last)",
      "Cell \u001b[0;32mIn[11], line 1\u001b[0m\n\u001b[0;32m----> 1\u001b[0m \u001b[38;5;28mprint\u001b[39m(\u001b[43mgradebook\u001b[49m\u001b[43m[\u001b[49m\u001b[38;5;124;43m'\u001b[39;49m\u001b[38;5;124;43mJeff\u001b[39;49m\u001b[38;5;124;43m'\u001b[39;49m\u001b[43m]\u001b[49m)\n",
      "\u001b[0;31mKeyError\u001b[0m: 'Jeff'"
     ]
    }
   ],
   "source": [
    "print(gradebook['Jeff'])"
   ]
  },
  {
   "cell_type": "markdown",
   "id": "52f2c322-39a2-42c4-bf36-65c749c4c29e",
   "metadata": {
    "tags": []
   },
   "source": [
    "## Task 4"
   ]
  },
  {
   "cell_type": "code",
   "execution_count": 4,
   "id": "9a4cfeba-7d35-430d-b72c-3600bc3e974c",
   "metadata": {
    "tags": []
   },
   "outputs": [
    {
     "name": "stdout",
     "output_type": "stream",
     "text": [
      "<class 'list'>\n"
     ]
    }
   ],
   "source": [
    "names = ['Alex','Patrick','Tom','Joe','Alex']\n",
    "\n",
    "print(type(names)) #Make sure the data type is correct "
   ]
  },
  {
   "cell_type": "markdown",
   "id": "9bae68d2-e497-4af6-816d-d8d776ea8405",
   "metadata": {
    "tags": []
   },
   "source": [
    "## Task 5"
   ]
  },
  {
   "cell_type": "code",
   "execution_count": 5,
   "id": "3dfe7870-5c8c-460b-a961-78df518c4c10",
   "metadata": {
    "tags": []
   },
   "outputs": [
    {
     "name": "stdout",
     "output_type": "stream",
     "text": [
      "['Alex', 'Alex', 'Joe', 'Patrick', 'Tom']\n"
     ]
    }
   ],
   "source": [
    "names.sort() #Sort in ascending order \n",
    "\n",
    "print(names)"
   ]
  },
  {
   "cell_type": "markdown",
   "id": "6d99bee3-b83e-4dbc-8a12-c1edbff05e62",
   "metadata": {
    "tags": []
   },
   "source": [
    "## Task 6"
   ]
  },
  {
   "cell_type": "code",
   "execution_count": 6,
   "id": "5183bd63-26bc-41ce-890f-45534d098a24",
   "metadata": {
    "tags": []
   },
   "outputs": [
    {
     "name": "stdout",
     "output_type": "stream",
     "text": [
      "{'Tom', 'Joe', 'Alex', 'Patrick'}\n",
      "<class 'set'>\n"
     ]
    }
   ],
   "source": [
    "set_names = set(names)\n",
    "print(set_names)\n",
    "print(type(set_names)) # Make sure data type is correct \n"
   ]
  },
  {
   "cell_type": "markdown",
   "id": "a76f8acc-ee41-4941-8f06-fe7f3490adf1",
   "metadata": {
    "tags": []
   },
   "source": [
    "## Task 7"
   ]
  },
  {
   "cell_type": "code",
   "execution_count": 7,
   "id": "5e19a7b1-9929-474f-9cc5-acad67ca459a",
   "metadata": {
    "tags": []
   },
   "outputs": [
    {
     "name": "stdout",
     "output_type": "stream",
     "text": [
      "<class 'dict'>\n"
     ]
    }
   ],
   "source": [
    "td = {'Alex': [2,1],\n",
    "      'Patrick':[4],\n",
    "      'Tom':[1],\n",
    "      'Joe':[3]\n",
    "     }\n",
    "\n",
    "print(type(td)) # Make sure data type is correct \n"
   ]
  },
  {
   "cell_type": "markdown",
   "id": "0d32c5a1-c72f-4be8-9710-b2272e94a7d2",
   "metadata": {},
   "source": [
    "## Task 8"
   ]
  },
  {
   "cell_type": "code",
   "execution_count": 8,
   "id": "ede5661d-1277-43ef-8c1a-0b7649909189",
   "metadata": {
    "tags": []
   },
   "outputs": [
    {
     "name": "stdout",
     "output_type": "stream",
     "text": [
      "3\n"
     ]
    }
   ],
   "source": [
    "print(sum(td['Alex'])) # First retrieving all values associated with key 'Alex', then using the sum function to get the total "
   ]
  },
  {
   "cell_type": "markdown",
   "id": "cfa3d443-75e8-4cf9-bce1-9f97551b6e1c",
   "metadata": {},
   "source": [
    "## Task 9"
   ]
  },
  {
   "cell_type": "code",
   "execution_count": 9,
   "id": "461a8592-4754-4d1d-847d-9c42c1aec557",
   "metadata": {
    "tags": []
   },
   "outputs": [
    {
     "name": "stdout",
     "output_type": "stream",
     "text": [
      "False\n"
     ]
    }
   ],
   "source": [
    "list1 = list(td.keys()) #Create list of keys\n",
    "list1.sort() #Sort key list \n",
    "\n",
    "list2 = sorted(names) #Created sorted list from names \n",
    "\n",
    "print(list1==list2)  #Check if list1 is equal to list2 (It is not because the keys are unique, so list1 only has Alex once in the data "
   ]
  },
  {
   "cell_type": "code",
   "execution_count": null,
   "id": "c3202b67-612e-4be7-aa48-e1493f4612b2",
   "metadata": {
    "tags": []
   },
   "outputs": [],
   "source": []
  },
  {
   "cell_type": "code",
   "execution_count": null,
   "id": "9fcd26fd-5247-489e-a126-66e4b1eacb78",
   "metadata": {},
   "outputs": [],
   "source": []
  }
 ],
 "metadata": {
  "kernelspec": {
   "display_name": "Python 3 (ipykernel)",
   "language": "python",
   "name": "python3"
  },
  "language_info": {
   "codemirror_mode": {
    "name": "ipython",
    "version": 3
   },
   "file_extension": ".py",
   "mimetype": "text/x-python",
   "name": "python",
   "nbconvert_exporter": "python",
   "pygments_lexer": "ipython3",
   "version": "3.11.4"
  }
 },
 "nbformat": 4,
 "nbformat_minor": 5
}
