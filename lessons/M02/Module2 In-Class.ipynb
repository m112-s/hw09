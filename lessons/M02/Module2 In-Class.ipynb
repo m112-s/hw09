{
 "cells": [
  {
   "cell_type": "markdown",
   "id": "be766333-046b-4a90-9d02-650ad5748025",
   "metadata": {},
   "source": [
    "***Exercise 2.1***"
   ]
  },
  {
   "cell_type": "code",
   "execution_count": 13,
   "id": "0683390b-d04f-4528-afa3-602b54fdb367",
   "metadata": {
    "tags": []
   },
   "outputs": [
    {
     "name": "stdout",
     "output_type": "stream",
     "text": [
      "HelloWorld Hel rld\n"
     ]
    }
   ],
   "source": [
    "six_string = \"HelloWorld\" \n",
    "\n",
    "first_three = six_string[:3]\n",
    "last_three = six_string[-3:]\n",
    "\n",
    "print(six_string,first_three,last_three) "
   ]
  },
  {
   "cell_type": "markdown",
   "id": "bc162da1-adb0-4a37-8bf7-56972fbe5a5d",
   "metadata": {
    "tags": []
   },
   "source": [
    "***Exercise 2.2*** "
   ]
  },
  {
   "cell_type": "code",
   "execution_count": 17,
   "id": "ad07692d-d964-453e-94c2-6754b01331e3",
   "metadata": {
    "tags": []
   },
   "outputs": [
    {
     "name": "stdout",
     "output_type": "stream",
     "text": [
      "2\n"
     ]
    }
   ],
   "source": [
    "new_list = ['thing1',2,'third thing',False] \n",
    "new_list.append(5)\n",
    "\n",
    "print(new_list[1])"
   ]
  },
  {
   "cell_type": "markdown",
   "id": "53018195-2f3d-49bf-ab3b-05d475898963",
   "metadata": {},
   "source": [
    "***Excercise 2.3***"
   ]
  },
  {
   "cell_type": "code",
   "execution_count": 21,
   "id": "82f16e8a-2cca-47f0-9034-2a6a923f2a84",
   "metadata": {
    "tags": []
   },
   "outputs": [],
   "source": [
    "new_tuple = (2,123,1234) \n",
    "\n",
    "#new_tuple.append(12345) This is not possible, tuple type variables are immutable \n",
    "\n"
   ]
  },
  {
   "cell_type": "markdown",
   "id": "f5e2243a-c143-4ece-a551-88c4bb4bed8c",
   "metadata": {},
   "source": [
    "***Excercise 2.4***"
   ]
  },
  {
   "cell_type": "code",
   "execution_count": 25,
   "id": "779da2fd-c26a-41fc-8f32-a1b0d56318ff",
   "metadata": {
    "tags": []
   },
   "outputs": [
    {
     "data": {
      "text/plain": [
       "True"
      ]
     },
     "execution_count": 25,
     "metadata": {},
     "output_type": "execute_result"
    }
   ],
   "source": [
    "val = '9.8' \n",
    "new_set = {'string_value','three','9.8'}\n",
    "\n",
    "val in new_set"
   ]
  },
  {
   "cell_type": "markdown",
   "id": "dc5ec62d-c358-4f85-8889-0a8da68eb388",
   "metadata": {},
   "source": [
    "***Excercise 2.5***"
   ]
  },
  {
   "cell_type": "code",
   "execution_count": 37,
   "id": "12154a86-b07e-455b-82d6-1aaa92d09d83",
   "metadata": {
    "tags": []
   },
   "outputs": [
    {
     "name": "stdout",
     "output_type": "stream",
     "text": [
      "apple\n"
     ]
    }
   ],
   "source": [
    "dictionary = {'a':'apple', 'b' : 'ball','c': 'cat'}\n",
    "\n",
    "key_list = list(dictionary.keys())\n",
    "\n",
    "print(dictionary.get(key_list[0]))"
   ]
  },
  {
   "cell_type": "markdown",
   "id": "2f3a1507-c755-487a-aa3b-5305a9b65ed6",
   "metadata": {
    "tags": []
   },
   "source": [
    "***Excercise 2.6***"
   ]
  },
  {
   "cell_type": "code",
   "execution_count": 45,
   "id": "f01675d0-5ed2-46d5-8c02-d10bff75f275",
   "metadata": {
    "tags": []
   },
   "outputs": [],
   "source": [
    "string26 = \"The quick brown fox jumped over the lazy dog\" \n",
    "\n",
    "string26 = sorted(set(string26.replace('.','').lower().split()))\n",
    "\n"
   ]
  }
 ],
 "metadata": {
  "kernelspec": {
   "display_name": "Python 3 (ipykernel)",
   "language": "python",
   "name": "python3"
  },
  "language_info": {
   "codemirror_mode": {
    "name": "ipython",
    "version": 3
   },
   "file_extension": ".py",
   "mimetype": "text/x-python",
   "name": "python",
   "nbconvert_exporter": "python",
   "pygments_lexer": "ipython3",
   "version": "3.11.4"
  }
 },
 "nbformat": 4,
 "nbformat_minor": 5
}
