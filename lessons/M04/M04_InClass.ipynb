{
 "cells": [
  {
   "cell_type": "code",
   "execution_count": 24,
   "id": "8a6716e7-a388-4def-92c3-159d0ae45110",
   "metadata": {
    "tags": []
   },
   "outputs": [
    {
     "data": {
      "text/plain": [
       "True"
      ]
     },
     "execution_count": 24,
     "metadata": {},
     "output_type": "execute_result"
    }
   ],
   "source": [
    "def function1(str_len,text):\n",
    "    return len(text) == str_len\n",
    "\n",
    "function1(30,'Is this text the right length?')"
   ]
  },
  {
   "cell_type": "code",
   "execution_count": 25,
   "id": "036b56ad-c24a-4c70-9bb6-5debaa9d774d",
   "metadata": {
    "tags": []
   },
   "outputs": [
    {
     "name": "stdout",
     "output_type": "stream",
     "text": [
      "1\n",
      "4\n",
      "9\n",
      "16\n",
      "25\n"
     ]
    }
   ],
   "source": [
    "def function2(*arg):\n",
    "    for i in arg:\n",
    "        print(i**2)\n",
    "    return None\n",
    "\n",
    "function2(1,2,3,4,5)"
   ]
  },
  {
   "cell_type": "code",
   "execution_count": 39,
   "id": "0e17569a-a8ce-4b69-aaa5-9ddef380aecb",
   "metadata": {
    "tags": []
   },
   "outputs": [
    {
     "data": {
      "text/plain": [
       "'G4B'"
      ]
     },
     "execution_count": 39,
     "metadata": {},
     "output_type": "execute_result"
    }
   ],
   "source": [
    "def make_numeronym(string_value:str):\n",
    "    '''\n",
    "    Input String longer than 4 char\n",
    "    Function returns 4 char acronym \n",
    "    '''\n",
    "    if not isinstance(string_value,str):\n",
    "        print(\"Not String\") \n",
    "        return False \n",
    "    elif len(string_value) <= 4:\n",
    "        print(\"Too short\") \n",
    "        return False\n",
    "    \n",
    "    return str(string_value[0].upper()) +  str(len(string_value[1:-1])) + str(string_value[-1].upper())\n",
    "\n",
    "make_numeronym(\"Github\")\n",
    "    "
   ]
  },
  {
   "cell_type": "code",
   "execution_count": 47,
   "id": "1eb5e1ca-0b49-4823-a4b6-e94380b151af",
   "metadata": {
    "tags": []
   },
   "outputs": [
    {
     "name": "stdout",
     "output_type": "stream",
     "text": [
      "1 0 0 1\n"
     ]
    }
   ],
   "source": [
    "def function4(test_int): \n",
    "    test_int -= 5\n",
    "    if test_int >= 0:\n",
    "        return 1\n",
    "    else:\n",
    "        return 0\n",
    "\n",
    "print(function4(213),function4(-2),function4(0),function4(5))"
   ]
  },
  {
   "cell_type": "code",
   "execution_count": 48,
   "id": "566a09e5-0d2c-4a77-8d7f-f64022fe38eb",
   "metadata": {
    "tags": []
   },
   "outputs": [
    {
     "name": "stdout",
     "output_type": "stream",
     "text": [
      "Secret\n"
     ]
    },
    {
     "ename": "NameError",
     "evalue": "name 'secret_x' is not defined",
     "output_type": "error",
     "traceback": [
      "\u001b[0;31m---------------------------------------------------------------------------\u001b[0m",
      "\u001b[0;31mNameError\u001b[0m                                 Traceback (most recent call last)",
      "Cell \u001b[0;32mIn[48], line 6\u001b[0m\n\u001b[1;32m      3\u001b[0m     \u001b[38;5;28mprint\u001b[39m(secret_x)\n\u001b[1;32m      5\u001b[0m function5()\n\u001b[0;32m----> 6\u001b[0m \u001b[38;5;28mprint\u001b[39m(\u001b[43msecret_x\u001b[49m)\n",
      "\u001b[0;31mNameError\u001b[0m: name 'secret_x' is not defined"
     ]
    }
   ],
   "source": [
    "def function5():\n",
    "    secret_x = 'Secret'\n",
    "    print(secret_x)\n",
    "\n",
    "function5()\n",
    "print(secret_x)"
   ]
  },
  {
   "cell_type": "code",
   "execution_count": 53,
   "id": "715adbe8-93a4-4a71-b569-b1c350d0ad89",
   "metadata": {
    "tags": []
   },
   "outputs": [
    {
     "name": "stdout",
     "output_type": "stream",
     "text": [
      "False True\n"
     ]
    }
   ],
   "source": [
    "function6 = lambda x: 10<= x <= 20\n",
    "\n",
    "print(function6(31),function6(12))"
   ]
  },
  {
   "cell_type": "code",
   "execution_count": 54,
   "id": "4a4b7926-6f33-457c-84bb-04124737dd29",
   "metadata": {
    "tags": []
   },
   "outputs": [
    {
     "data": {
      "text/plain": [
       "True"
      ]
     },
     "execution_count": 54,
     "metadata": {},
     "output_type": "execute_result"
    }
   ],
   "source": [
    "in_range = lambda x,a,b: x >= a and x <= b\n",
    "\n",
    "in_range(123,1,10000)"
   ]
  },
  {
   "cell_type": "code",
   "execution_count": 63,
   "id": "146e019b-63d7-450b-995e-9fe669f8f99a",
   "metadata": {
    "tags": []
   },
   "outputs": [
    {
     "data": {
      "text/plain": [
       "0"
      ]
     },
     "execution_count": 63,
     "metadata": {},
     "output_type": "execute_result"
    }
   ],
   "source": [
    "c2f = lambda c: 1.8*c + 32 \n",
    "f2c = lambda f: (f-32)/1.8 \n",
    "\n",
    "temp_dict = {'f' : f2c , 'c' : c2f} \n",
    "\n",
    "t2t = lambda t,target : int(temp_dict[target](t))\n",
    "\n",
    "t2t(32,'f')"
   ]
  }
 ],
 "metadata": {
  "kernelspec": {
   "display_name": "Python 3 (ipykernel)",
   "language": "python",
   "name": "python3"
  },
  "language_info": {
   "codemirror_mode": {
    "name": "ipython",
    "version": 3
   },
   "file_extension": ".py",
   "mimetype": "text/x-python",
   "name": "python",
   "nbconvert_exporter": "python",
   "pygments_lexer": "ipython3",
   "version": "3.11.4"
  }
 },
 "nbformat": 4,
 "nbformat_minor": 5
}
