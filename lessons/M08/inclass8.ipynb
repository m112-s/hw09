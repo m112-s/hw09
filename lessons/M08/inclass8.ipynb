{
 "cells": [
  {
   "cell_type": "code",
   "execution_count": 11,
   "id": "4310453e-6799-4c15-992b-999f62f3f3fe",
   "metadata": {
    "tags": []
   },
   "outputs": [
    {
     "name": "stdout",
     "output_type": "stream",
     "text": [
      "Divide by zero error\n"
     ]
    }
   ],
   "source": [
    "try: \n",
    "    test1 = 1 / 0 \n",
    "    print(test1)\n",
    "except ZeroDivisionError: print(\"Divide by zero error\") "
   ]
  },
  {
   "cell_type": "code",
   "execution_count": 15,
   "id": "2e1d15b9-9cbb-4368-ab67-5730972138f2",
   "metadata": {
    "tags": []
   },
   "outputs": [
    {
     "ename": "AssertionError",
     "evalue": "This is False",
     "output_type": "error",
     "traceback": [
      "\u001b[0;31m---------------------------------------------------------------------------\u001b[0m",
      "\u001b[0;31mAssertionError\u001b[0m                            Traceback (most recent call last)",
      "Cell \u001b[0;32mIn[15], line 3\u001b[0m\n\u001b[1;32m      1\u001b[0m fa \u001b[38;5;241m=\u001b[39m \u001b[38;5;28;01mFalse\u001b[39;00m\n\u001b[0;32m----> 3\u001b[0m \u001b[38;5;28;01massert\u001b[39;00m fa, \u001b[38;5;124m\"\u001b[39m\u001b[38;5;124mThis is False\u001b[39m\u001b[38;5;124m\"\u001b[39m \n",
      "\u001b[0;31mAssertionError\u001b[0m: This is False"
     ]
    }
   ],
   "source": [
    "fa = False\n",
    "\n",
    "assert fa, \"This is False\" "
   ]
  },
  {
   "cell_type": "code",
   "execution_count": 23,
   "id": "4a39e43b-bd10-4175-82ee-8ee462097076",
   "metadata": {
    "tags": []
   },
   "outputs": [],
   "source": [
    "from math import pi \n",
    "def area(radius):\n",
    "    \n",
    "    area = pi * radius**2\n",
    "    \n",
    "    return area"
   ]
  },
  {
   "cell_type": "code",
   "execution_count": 34,
   "id": "9bc9571a-d62d-4d0a-9a36-605d6c448aca",
   "metadata": {
    "tags": []
   },
   "outputs": [],
   "source": [
    "assert isinstance(area(1),float), \"Not float\" \n",
    "assert area(0) == 0, \"is zero\" \n",
    "assert math.isclose(area(5),78.5,abs_tol=.1), \"failed\""
   ]
  },
  {
   "cell_type": "code",
   "execution_count": 35,
   "id": "7b6ca1f9-d6d0-4c72-9b06-e7944526c646",
   "metadata": {
    "tags": []
   },
   "outputs": [],
   "source": [
    "class Student:\n",
    "    \n",
    "    def __init__(self,name,courses=None):\n",
    "        self.name = name\n",
    "        self.course = [] if courses is None else courses \n",
    "        self.num_courses = len(self.courses) \n",
    "        \n",
    "    def enroll_in_courses(self,course_name):\n",
    "        self.courses.append(course_name)\n",
    "        self.num_courses += 1 \n",
    "    \n",
    "    def unenroll_in_course(self,course_name):\n",
    "        if course_name in self.course:\n",
    "            self.courses.remove(course_name)\n",
    "            self.num_course -= 1\n",
    "        else:\n",
    "            print(\"Not enrolled\") \n",
    "        \n",
    "        \n",
    "                           "
   ]
  },
  {
   "cell_type": "code",
   "execution_count": 36,
   "id": "81d4780e-9c03-487a-a351-1c5078a21c87",
   "metadata": {
    "tags": []
   },
   "outputs": [],
   "source": []
  }
 ],
 "metadata": {
  "kernelspec": {
   "display_name": "Python 3 (ipykernel)",
   "language": "python",
   "name": "python3"
  },
  "language_info": {
   "codemirror_mode": {
    "name": "ipython",
    "version": 3
   },
   "file_extension": ".py",
   "mimetype": "text/x-python",
   "name": "python",
   "nbconvert_exporter": "python",
   "pygments_lexer": "ipython3",
   "version": "3.11.4"
  }
 },
 "nbformat": 4,
 "nbformat_minor": 5
}
