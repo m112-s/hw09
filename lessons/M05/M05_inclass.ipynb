{
 "cells": [
  {
   "cell_type": "code",
   "execution_count": 10,
   "id": "87ae3d89-012d-4c1e-b18d-1526fc1cdf53",
   "metadata": {
    "tags": []
   },
   "outputs": [],
   "source": [
    "import numpy as np\n",
    "import time"
   ]
  },
  {
   "cell_type": "code",
   "execution_count": 11,
   "id": "40e1b43e-a922-47fc-9285-5ad9a7626aa4",
   "metadata": {
    "tags": []
   },
   "outputs": [
    {
     "name": "stdout",
     "output_type": "stream",
     "text": [
      "0.02207469940185547\n"
     ]
    }
   ],
   "source": [
    "t0 = time.time()\n",
    "values = []\n",
    "\n",
    "for i in range(100001):\n",
    "    if i % 2 != 0:\n",
    "        values.append(-i)\n",
    "    else:\n",
    "        values.append(i)\n",
    "\n",
    "t1 = time.time()\n",
    "execution_time = t1 - t0\n",
    "\n",
    "print(execution_time)\n"
   ]
  },
  {
   "cell_type": "code",
   "execution_count": 14,
   "id": "9d622de8-ee86-4a2b-bbd1-a70cab920889",
   "metadata": {
    "tags": []
   },
   "outputs": [
    {
     "name": "stdout",
     "output_type": "stream",
     "text": [
      "0.01794910430908203\n"
     ]
    }
   ],
   "source": [
    "t0 = time.time()\n",
    "\n",
    "vals = [i * -1 if i % 2 == 1 else i for i in range(1,100001)]\n",
    "\n",
    "print(time.time() - t0)"
   ]
  },
  {
   "cell_type": "code",
   "execution_count": 18,
   "id": "e40a1cad-394b-483f-a706-3e8b425352d9",
   "metadata": {
    "tags": []
   },
   "outputs": [
    {
     "data": {
      "text/plain": [
       "array([4, 6, 2, 4, 2, 6, 3, 1, 1, 2])"
      ]
     },
     "execution_count": 18,
     "metadata": {},
     "output_type": "execute_result"
    }
   ],
   "source": [
    "np.random.randint(1,7,10)"
   ]
  },
  {
   "cell_type": "code",
   "execution_count": 29,
   "id": "9489d511-6a2d-42a5-b4a1-d1e90b533c94",
   "metadata": {
    "tags": []
   },
   "outputs": [
    {
     "name": "stdout",
     "output_type": "stream",
     "text": [
      "<class 'int'>\n",
      "[18 11  9  8  1]\n"
     ]
    }
   ],
   "source": [
    "print(type(np.random.randint(30)))\n",
    "print(np.random.randint(1,21,5))"
   ]
  },
  {
   "cell_type": "code",
   "execution_count": 36,
   "id": "1483e6c7-ec90-4d17-9a75-05eae0b4c52e",
   "metadata": {
    "tags": []
   },
   "outputs": [
    {
     "data": {
      "text/plain": [
       "(array([2., 0., 1., 1., 0., 0., 0., 0., 0., 1.]),\n",
       " array([ 1. ,  2.9,  4.8,  6.7,  8.6, 10.5, 12.4, 14.3, 16.2, 18.1, 20. ]),\n",
       " <BarContainer object of 10 artists>)"
      ]
     },
     "execution_count": 36,
     "metadata": {},
     "output_type": "execute_result"
    },
    {
     "data": {
      "image/png": "[encoded data removed]",
      "text/plain": [
       "<Figure size 640x480 with 1 Axes>"
      ]
     },
     "metadata": {},
     "output_type": "display_data"
    }
   ],
   "source": [
    "from matplotlib.pyplot import hist \n",
    "\n",
    "hist(np.random.randint(1,21,5))"
   ]
  },
  {
   "cell_type": "code",
   "execution_count": 39,
   "id": "f22e92e7-9222-481c-b7ba-a5063ae5aac5",
   "metadata": {
    "tags": []
   },
   "outputs": [
    {
     "data": {
      "text/plain": [
       "array([[-0.44815454, -0.57776816,  0.24724902],\n",
       "       [-1.19829396,  1.4426993 ,  0.98857771]])"
      ]
     },
     "execution_count": 39,
     "metadata": {},
     "output_type": "execute_result"
    }
   ],
   "source": [
    "matr = np.random.randn(2,3)\n",
    "matr"
   ]
  },
  {
   "cell_type": "code",
   "execution_count": 40,
   "id": "5c42d1b1-c2b3-4bec-a6d1-c09d1e7dbb76",
   "metadata": {
    "tags": []
   },
   "outputs": [
    {
     "data": {
      "text/plain": [
       "array([[-0.89630907, -1.15553632,  0.49449804],\n",
       "       [-2.39658791,  2.88539859,  1.97715542]])"
      ]
     },
     "execution_count": 40,
     "metadata": {},
     "output_type": "execute_result"
    }
   ],
   "source": [
    "matr *2"
   ]
  },
  {
   "cell_type": "code",
   "execution_count": 41,
   "id": "31d2f146-f87d-452a-96d1-c3c101e8291b",
   "metadata": {
    "tags": []
   },
   "outputs": [
    {
     "data": {
      "text/plain": [
       "array([[-0.89630907, -1.15553632,  0.49449804],\n",
       "       [-2.39658791,  2.88539859,  1.97715542]])"
      ]
     },
     "execution_count": 41,
     "metadata": {},
     "output_type": "execute_result"
    }
   ],
   "source": [
    "matr + matr"
   ]
  },
  {
   "cell_type": "code",
   "execution_count": 43,
   "id": "6cf98c4b-a702-4760-8f12-da62afb71055",
   "metadata": {
    "tags": []
   },
   "outputs": [
    {
     "data": {
      "text/plain": [
       "array([[-2.23137315, -1.73079805,  4.04450543],\n",
       "       [-0.83451977,  0.69314514,  1.01155426]])"
      ]
     },
     "execution_count": 43,
     "metadata": {},
     "output_type": "execute_result"
    }
   ],
   "source": [
    "1/matr"
   ]
  },
  {
   "cell_type": "code",
   "execution_count": 52,
   "id": "cf1d3613-4af8-4e99-969f-b752b2e8bb7c",
   "metadata": {
    "tags": []
   },
   "outputs": [
    {
     "name": "stdout",
     "output_type": "stream",
     "text": [
      "[[0. 0. 0. 0.]\n",
      " [0. 0. 0. 0.]]\n",
      "[[1. 1. 1. 1.]\n",
      " [1. 1. 1. 1.]]\n"
     ]
    }
   ],
   "source": [
    "print(np.zeros((2,4),))\n",
    "\n",
    "print(np.ones((2,4),))"
   ]
  },
  {
   "cell_type": "code",
   "execution_count": 56,
   "id": "f5cc9608-7dd1-4b9f-9964-73ab9cf44b59",
   "metadata": {
    "tags": []
   },
   "outputs": [
    {
     "data": {
      "text/plain": [
       "array([[1., 0., 0., 0.],\n",
       "       [0., 1., 0., 0.],\n",
       "       [0., 0., 1., 0.],\n",
       "       [0., 0., 0., 1.]])"
      ]
     },
     "execution_count": 56,
     "metadata": {},
     "output_type": "execute_result"
    }
   ],
   "source": [
    "np.identity(4)"
   ]
  },
  {
   "cell_type": "code",
   "execution_count": 69,
   "id": "a7021abb-ff94-4f5f-a9cf-11c94444bfc0",
   "metadata": {
    "tags": []
   },
   "outputs": [],
   "source": [
    "vec = np.random.randn(5)"
   ]
  },
  {
   "cell_type": "code",
   "execution_count": 70,
   "id": "05d6ea99-0faa-4d39-b038-f44a50bb2097",
   "metadata": {
    "tags": []
   },
   "outputs": [
    {
     "name": "stdout",
     "output_type": "stream",
     "text": [
      "[ 0.50516299  0.65202089 -1.0726932 ]\n",
      "[ 0.50516299  0.65202089 -1.0726932 ]\n"
     ]
    }
   ],
   "source": [
    "print(vec[1:4])\n",
    "\n",
    "print(vec[1:-1])"
   ]
  },
  {
   "cell_type": "code",
   "execution_count": 72,
   "id": "2ff70adc-337e-4681-813a-32f0e063410e",
   "metadata": {
    "tags": []
   },
   "outputs": [
    {
     "data": {
      "text/plain": [
       "array([0.50516299, 0.65202089, 1.67011658])"
      ]
     },
     "execution_count": 72,
     "metadata": {},
     "output_type": "execute_result"
    }
   ],
   "source": [
    "vec[vec>.15]"
   ]
  },
  {
   "cell_type": "code",
   "execution_count": 78,
   "id": "d41bf889-e043-496a-a062-ac784918b7a6",
   "metadata": {
    "tags": []
   },
   "outputs": [
    {
     "name": "stdout",
     "output_type": "stream",
     "text": [
      "[[-1.08291866  0.12551786 -0.83406296]\n",
      " [-1.51827021  1.6528365  -1.49036501]\n",
      " [-0.77488258 -1.6046661   2.13585122]]\n"
     ]
    }
   ],
   "source": [
    "t14 = np.random.randn(3,3)\n",
    "print(t14)"
   ]
  },
  {
   "cell_type": "code",
   "execution_count": 79,
   "id": "5441fc52-4ee1-4af3-a6d5-f295052251d6",
   "metadata": {
    "tags": []
   },
   "outputs": [
    {
     "data": {
      "text/plain": [
       "array([[-1.51827021,  1.6528365 ],\n",
       "       [-0.77488258, -1.6046661 ]])"
      ]
     },
     "execution_count": 79,
     "metadata": {},
     "output_type": "execute_result"
    }
   ],
   "source": [
    "t14[1:,:-1]"
   ]
  }
 ],
 "metadata": {
  "kernelspec": {
   "display_name": "Python 3 (ipykernel)",
   "language": "python",
   "name": "python3"
  },
  "language_info": {
   "codemirror_mode": {
    "name": "ipython",
    "version": 3
   },
   "file_extension": ".py",
   "mimetype": "text/x-python",
   "name": "python",
   "nbconvert_exporter": "python",
   "pygments_lexer": "ipython3",
   "version": "3.11.4"
  }
 },
 "nbformat": 4,
 "nbformat_minor": 5
}
