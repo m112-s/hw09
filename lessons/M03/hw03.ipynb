{
 "cells": [
  {
   "cell_type": "markdown",
   "id": "91c2bea0-57b5-4e2d-b7c3-bae818c949cc",
   "metadata": {},
   "source": [
    "# Student Info\n",
    "\n",
    "* Name: Manav Sheth\n",
    "* Net ID: gfw8hq\n",
    "* URL of this file in GitHub: https://github.com/m112-s/DS5100--gfw8hq-/blob/main/lessons/M03/hw03.ipynb"
   ]
  },
  {
   "cell_type": "markdown",
   "id": "809cced7-1024-41af-93bd-737ba99241a7",
   "metadata": {},
   "source": [
    "# Task 1\n",
    "\n",
    "(6 points)\n",
    "\n",
    "Using the **for** loop and **if** statement control structures, \n",
    "write a script that generates the integers from $1$ to $100$ and does the following things:\n",
    "\n",
    "* If $3$ is a factor of the number but $5$ is not, print `Wahoo`.\n",
    "* If $5$ is a factor of the number but $3$ is not, print `wah!`.\n",
    "* If both $3$ and $5$ are factors of the number, print `Wahoowah!`.\n",
    "* If the number meets none of the above conditions, print nothing, not even a line break.\n",
    "* Make sure that the line printed for each iteration in which a condition is met ends with a line break.\n",
    "* When the loop is finished, print the number of times either conidtion was met, i.e. the number of lines that were printed.\n",
    "\n",
    "Hint: You may not need to use **elif** and **else** to accomplish these tasks."
   ]
  },
  {
   "cell_type": "code",
   "execution_count": 9,
   "id": "73e6b63d-38ca-488a-9a2a-009c150d8dbd",
   "metadata": {},
   "outputs": [
    {
     "name": "stdout",
     "output_type": "stream",
     "text": [
      "Wahoo\n",
      "wah!\n",
      "Wahoo\n",
      "Wahoo\n",
      "wah!\n",
      "Wahoo\n",
      "Wahoowah!\n",
      "Wahoo\n",
      "wah!\n",
      "Wahoo\n",
      "Wahoo\n",
      "wah!\n",
      "Wahoo\n",
      "Wahoowah!\n",
      "Wahoo\n",
      "wah!\n",
      "Wahoo\n",
      "Wahoo\n",
      "wah!\n",
      "Wahoo\n",
      "Wahoowah!\n",
      "Wahoo\n",
      "wah!\n",
      "Wahoo\n",
      "Wahoo\n",
      "wah!\n",
      "Wahoo\n",
      "Wahoowah!\n",
      "Wahoo\n",
      "wah!\n",
      "Wahoo\n",
      "Wahoo\n",
      "wah!\n",
      "Wahoo\n",
      "Wahoowah!\n",
      "Wahoo\n",
      "wah!\n",
      "Wahoo\n",
      "Wahoo\n",
      "wah!\n",
      "Wahoo\n",
      "Wahoowah!\n",
      "Wahoo\n",
      "wah!\n",
      "Wahoo\n",
      "Wahoo\n",
      "wah!\n",
      "47\n"
     ]
    }
   ],
   "source": [
    "line_count = 0\n",
    "for i in range(1, 101): #Need to go 1 over 100 to include 100 \n",
    "    if i % 3 == 0 and i % 5 != 0: #Conditions\n",
    "        print(\"Wahoo\")\n",
    "        #print(i) #Double check code line to make sure factors are correct \n",
    "        line_count += 1\n",
    "    if i % 5 == 0 and i % 3 != 0:\n",
    "        print(\"wah!\")\n",
    "        #print(i)\n",
    "        line_count += 1\n",
    "    if i % 3 == 0 and i % 5 == 0:\n",
    "        print(\"Wahoowah!\")\n",
    "        #print(i)\n",
    "        line_count += 1\n",
    "    else:\n",
    "        None\n",
    "print(line_count) #Print line count"
   ]
  },
  {
   "cell_type": "markdown",
   "id": "eefd829e-9d2d-44b1-9268-4aa605c4e40d",
   "metadata": {
    "tags": []
   },
   "source": [
    "# Task 2\n",
    "\n",
    "(3 points)\n",
    "\n",
    "Rewrite the `for` loop as a `while` loop. \n",
    "\n",
    "This time, only print lines where both conditions are met. \n",
    "\n",
    "Include a final line which prints the number of times both conditions are met."
   ]
  },
  {
   "cell_type": "code",
   "execution_count": 15,
   "id": "704989f4-0d1b-457e-9179-6c080aa83f9d",
   "metadata": {},
   "outputs": [
    {
     "name": "stdout",
     "output_type": "stream",
     "text": [
      "Wahoowah!\n",
      "Wahoowah!\n",
      "Wahoowah!\n",
      "Wahoowah!\n",
      "Wahoowah!\n",
      "Wahoowah!\n",
      "6\n"
     ]
    }
   ],
   "source": [
    "line_count = 0 #Re-initialize line count \n",
    "i = 1 #Initialize counter for while loop (Not using 0, only 1-100) \n",
    "\n",
    "while i < 101: #Need to go 1 over 100 to include 100 \n",
    "    if i % 3 == 0 and i % 5 == 0:\n",
    "        print(\"Wahoowah!\")\n",
    "        #print(i)\n",
    "        line_count += 1\n",
    "    else:\n",
    "        None\n",
    "    i+=1\n",
    "print(line_count) #Print line count"
   ]
  },
  {
   "cell_type": "markdown",
   "id": "9cdb8762-4e13-4b71-bbde-9f6d7357aaec",
   "metadata": {
    "tags": []
   },
   "source": [
    "# Task 3\n",
    "\n",
    "(3 points)\n",
    "\n",
    "Write a list comprehension that iterates through the integers from $1$ to $100$ and returns a list containing the sum of the boolean values of the three conditions described in Task 1."
   ]
  },
  {
   "cell_type": "code",
   "execution_count": 41,
   "id": "af38602c-1e6e-4de0-906a-5c1e5d780b49",
   "metadata": {},
   "outputs": [
    {
     "data": {
      "text/plain": [
       "47"
      ]
     },
     "execution_count": 41,
     "metadata": {},
     "output_type": "execute_result"
    }
   ],
   "source": [
    "num_list = list(range(1,101)) \n",
    "\n",
    "final_list = [(i % 3 == 0 and i % 5 != 0) + (i % 3 != 0 and i % 5 == 0) + (i % 3 == 0 and i % 5 == 0) for i in num_list ] # Gather 1, or 0 if the value is valid\n",
    "\n",
    "sum(final_list) #Print the sum of the boolean list "
   ]
  }
 ],
 "metadata": {
  "kernelspec": {
   "display_name": "Python 3 (ipykernel)",
   "language": "python",
   "name": "python3"
  },
  "language_info": {
   "codemirror_mode": {
    "name": "ipython",
    "version": 3
   },
   "file_extension": ".py",
   "mimetype": "text/x-python",
   "name": "python",
   "nbconvert_exporter": "python",
   "pygments_lexer": "ipython3",
   "version": "3.11.4"
  },
  "widgets": {
   "application/vnd.jupyter.widget-state+json": {
    "state": {},
    "version_major": 2,
    "version_minor": 0
   }
  }
 },
 "nbformat": 4,
 "nbformat_minor": 5
}
