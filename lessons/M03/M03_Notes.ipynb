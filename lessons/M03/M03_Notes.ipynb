{
 "cells": [
  {
   "cell_type": "markdown",
   "id": "ef0dea9b-1806-4c47-a416-b08a90be5706",
   "metadata": {},
   "source": [
    "**Excercises**"
   ]
  },
  {
   "cell_type": "code",
   "execution_count": null,
   "id": "2a863154-73aa-447a-ad6d-34cda8573ad3",
   "metadata": {},
   "outputs": [],
   "source": [
    "val = 5\n",
    "\n",
    "if -10 < val < -5:\n",
    "    print('bucket1') \n",
    "elif -5 < val < -2: \n",
    "    print('bucket2') \n",
    "elif val == -2:\n",
    "    print('bucket3') \n",
    "else:\n",
    "    print('bucket4') #else function catch all \n",
    "    "
   ]
  },
  {
   "cell_type": "code",
   "execution_count": 6,
   "id": "bff0b4cc-a33e-4026-a204-55e9de672d93",
   "metadata": {
    "tags": []
   },
   "outputs": [
    {
     "name": "stdout",
     "output_type": "stream",
     "text": [
      "-2\n",
      "max_val\n",
      "0\n",
      "5\n",
      "6\n"
     ]
    }
   ],
   "source": [
    "xx = [-2,8,0,5,6] \n",
    "\n",
    "max_val = max(xx)\n",
    "\n",
    "for i in xx:\n",
    "    if i < max_val:\n",
    "        print(i)\n",
    "    else:\n",
    "        print('max_val')"
   ]
  },
  {
   "cell_type": "code",
   "execution_count": 9,
   "id": "a9fb0aa6-36b0-415c-8a46-96ec82fca2d3",
   "metadata": {
    "tags": []
   },
   "outputs": [
    {
     "name": "stdout",
     "output_type": "stream",
     "text": [
      "0\n",
      "10\n",
      "20\n",
      "30\n",
      "40\n",
      "50\n",
      "60\n",
      "70\n",
      "80\n",
      "90\n",
      "100\n"
     ]
    }
   ],
   "source": [
    "it = 0 \n",
    "max_iter = 100 \n",
    "\n",
    "while it < max_iter:\n",
    "    if it == 0 or it % 10 == 0:\n",
    "        print(it) \n",
    "    it+=1\n",
    "        "
   ]
  },
  {
   "cell_type": "code",
   "execution_count": 12,
   "id": "b0566ba2-f298-4ef4-b953-530b91cf8f80",
   "metadata": {
    "tags": []
   },
   "outputs": [
    {
     "name": "stdout",
     "output_type": "stream",
     "text": [
      "tom\n",
      "drew\n",
      "joe\n",
      "dan\n"
     ]
    }
   ],
   "source": [
    "cap_list = ['Tom', 'Drew', 'Joe', 'Dan'] \n",
    "\n",
    "for qb in cap_list:\n",
    "    print(qb.lower())"
   ]
  },
  {
   "cell_type": "code",
   "execution_count": 20,
   "id": "6aa347a7-c804-4296-b015-3407bf725bde",
   "metadata": {
    "tags": []
   },
   "outputs": [
    {
     "name": "stdout",
     "output_type": "stream",
     "text": [
      "Tom\n",
      "Drew\n",
      "Joe\n",
      "Dan\n"
     ]
    }
   ],
   "source": [
    "qbiter = iter(cap_list)\n",
    "\n",
    "\n",
    "print(next(qbiter))\n",
    "print(next(qbiter))\n",
    "print(next(qbiter))\n",
    "print(next(qbiter))"
   ]
  },
  {
   "cell_type": "code",
   "execution_count": 25,
   "id": "edec1141-4408-4b4c-bcce-45677415f348",
   "metadata": {
    "tags": []
   },
   "outputs": [
    {
     "name": "stdout",
     "output_type": "stream",
     "text": [
      "city1 12345\n",
      "city2 54321\n"
     ]
    }
   ],
   "source": [
    "\n",
    "city_dict = {'city1' : 12345, 'city2' : 54321} \n",
    "\n",
    "for city,zipcode in city_dict.items():\n",
    "    print(city,zipcode)\n"
   ]
  },
  {
   "cell_type": "code",
   "execution_count": 32,
   "id": "9309feb5-7cb8-4728-acf4-4a86632fe61b",
   "metadata": {
    "tags": []
   },
   "outputs": [
    {
     "name": "stdout",
     "output_type": "stream",
     "text": [
      "city1 12345\n",
      "city2 54321\n"
     ]
    }
   ],
   "source": [
    "for key in city_dict.keys():\n",
    "    print(key,city_dict[key])"
   ]
  }
 ],
 "metadata": {
  "kernelspec": {
   "display_name": "Python 3 (ipykernel)",
   "language": "python",
   "name": "python3"
  },
  "language_info": {
   "codemirror_mode": {
    "name": "ipython",
    "version": 3
   },
   "file_extension": ".py",
   "mimetype": "text/x-python",
   "name": "python",
   "nbconvert_exporter": "python",
   "pygments_lexer": "ipython3",
   "version": "3.11.4"
  }
 },
 "nbformat": 4,
 "nbformat_minor": 5
}
