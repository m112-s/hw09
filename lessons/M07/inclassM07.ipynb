{
 "cells": [
  {
   "cell_type": "code",
   "execution_count": 1,
   "id": "646b736e-900f-40d1-81ed-18b2dfbad85b",
   "metadata": {
    "tags": []
   },
   "outputs": [],
   "source": [
    "import pandas as pd "
   ]
  },
  {
   "cell_type": "code",
   "execution_count": 2,
   "id": "b50969c6-9240-4270-9b8a-19b7ed1cb141",
   "metadata": {
    "tags": []
   },
   "outputs": [],
   "source": [
    "class MyClass:\n",
    "    \"\"\"\n",
    "    Example class for Exercise 7.1\n",
    "    \"\"\"\n",
    "    att1 = \"foo\"\n",
    "    \n",
    "    def __init__(self, att2):\n",
    "        self.att2 = att2\n",
    "\n",
    "    def add(self):\n",
    "        self.msg = self.att1 + ' ' + self.att2  \n",
    "        print(self.msg) \n"
   ]
  },
  {
   "cell_type": "code",
   "execution_count": 3,
   "id": "2da9e715-7fac-426d-8961-a75754d8b291",
   "metadata": {
    "tags": []
   },
   "outputs": [],
   "source": [
    "obj_1 = MyClass(\"This is not a pipe\")"
   ]
  },
  {
   "cell_type": "code",
   "execution_count": 4,
   "id": "e6e74f00-e5bb-4d65-aa8a-a284d264702c",
   "metadata": {
    "tags": []
   },
   "outputs": [
    {
     "data": {
      "text/plain": [
       "('foo', 'This is not a pipe')"
      ]
     },
     "execution_count": 4,
     "metadata": {},
     "output_type": "execute_result"
    }
   ],
   "source": [
    "obj_1.att1, obj_1.att2"
   ]
  },
  {
   "cell_type": "code",
   "execution_count": 5,
   "id": "4d2575f7-cd43-416b-8ff9-1b1212393124",
   "metadata": {
    "tags": []
   },
   "outputs": [
    {
     "name": "stdout",
     "output_type": "stream",
     "text": [
      "foo This is not a pipe\n"
     ]
    }
   ],
   "source": [
    "obj_1.add()"
   ]
  },
  {
   "cell_type": "code",
   "execution_count": 6,
   "id": "d2ccc6c9-c2db-454e-925c-2435b22e7ba3",
   "metadata": {
    "tags": []
   },
   "outputs": [],
   "source": [
    "class Student:\n",
    "    \n",
    "    def __init__(self,student_name,student_id):\n",
    "        self.name = student_name\n",
    "        self.id = student_id\n",
    "        self.grade = pd.Series(dtype=float)\n",
    "    \n",
    "    def add_grade(self, assignment, grade):\n",
    "        self.grade.loc[assignment] = grade\n",
    "        \n",
    "    def show_grades(self):\n",
    "        self.grade.plot.bar(title = f\"Grades for {self.name} ({self.id})\") \n",
    "        \n",
    "    "
   ]
  },
  {
   "cell_type": "code",
   "execution_count": 7,
   "id": "7c515c45-9e89-48df-88df-b3c1af26edc3",
   "metadata": {
    "tags": []
   },
   "outputs": [],
   "source": [
    "student1 = Student(\"fname lname\", 'Steve') "
   ]
  },
  {
   "cell_type": "code",
   "execution_count": 8,
   "id": "67f22671-7e4c-4d93-aadc-f55a44065a32",
   "metadata": {
    "tags": []
   },
   "outputs": [],
   "source": [
    "student1.add_grade('Q1',100)\n",
    "student1.add_grade('Q2',90)\n",
    "student1.add_grade('Q3',92)\n",
    "student1.add_grade('Q4',50)"
   ]
  },
  {
   "cell_type": "code",
   "execution_count": 9,
   "id": "521e7595-4d91-46b2-b997-7cf1714acd54",
   "metadata": {
    "tags": []
   },
   "outputs": [
    {
     "data": {
      "image/png": "[encoded data removed]",
      "text/plain": [
       "<Figure size 640x480 with 1 Axes>"
      ]
     },
     "metadata": {},
     "output_type": "display_data"
    }
   ],
   "source": [
    "student1.show_grades()"
   ]
  },
  {
   "cell_type": "code",
   "execution_count": 22,
   "id": "1d827c05-8e4a-4e69-a770-bb3271275113",
   "metadata": {},
   "outputs": [
    {
     "name": "stdout",
     "output_type": "stream",
     "text": [
      "47529.16\n",
      "772.83\n"
     ]
    }
   ],
   "source": [
    "from math import pi\n",
    "\n",
    "class Circle:\n",
    "    def __init__(self, radius):\n",
    "        self.radius = radius\n",
    "    def get_area(self):\n",
    "        self.area = round(self.radius**2 * pi, 2)  \n",
    "\n",
    "    def get_circ(self):\n",
    "        self.circ = round(2 * self.radius * pi, 2)  \n",
    "\n",
    "mycircle = Circle(123)\n",
    "\n",
    "mycircle.get_area()\n",
    "mycircle.get_circ()\n",
    "\n",
    "print(mycircle.area)  \n",
    "print(mycircle.circ)  \n"
   ]
  }
 ],
 "metadata": {
  "kernelspec": {
   "display_name": "Python 3 (ipykernel)",
   "language": "python",
   "name": "python3"
  },
  "language_info": {
   "codemirror_mode": {
    "name": "ipython",
    "version": 3
   },
   "file_extension": ".py",
   "mimetype": "text/x-python",
   "name": "python",
   "nbconvert_exporter": "python",
   "pygments_lexer": "ipython3",
   "version": "3.11.4"
  }
 },
 "nbformat": 4,
 "nbformat_minor": 5
}
